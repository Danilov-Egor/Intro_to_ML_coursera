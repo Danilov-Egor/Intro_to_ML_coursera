{
 "cells": [
  {
   "cell_type": "code",
   "execution_count": 54,
   "metadata": {},
   "outputs": [],
   "source": [
    "import pandas as pd\n",
    "import numpy as np\n",
    "from sklearn.linear_model import LogisticRegression\n",
    "from sklearn.metrics import roc_auc_score, mean_squared_error"
   ]
  },
  {
   "cell_type": "code",
   "execution_count": 55,
   "metadata": {},
   "outputs": [],
   "source": [
    "df = pd.read_csv(\"data-logistic.csv\", header=None)"
   ]
  },
  {
   "cell_type": "code",
   "execution_count": 13,
   "metadata": {},
   "outputs": [
    {
     "data": {
      "text/html": [
       "<div>\n",
       "<style scoped>\n",
       "    .dataframe tbody tr th:only-of-type {\n",
       "        vertical-align: middle;\n",
       "    }\n",
       "\n",
       "    .dataframe tbody tr th {\n",
       "        vertical-align: top;\n",
       "    }\n",
       "\n",
       "    .dataframe thead th {\n",
       "        text-align: right;\n",
       "    }\n",
       "</style>\n",
       "<table border=\"1\" class=\"dataframe\">\n",
       "  <thead>\n",
       "    <tr style=\"text-align: right;\">\n",
       "      <th></th>\n",
       "      <th>0</th>\n",
       "      <th>1</th>\n",
       "      <th>2</th>\n",
       "    </tr>\n",
       "  </thead>\n",
       "  <tbody>\n",
       "    <tr>\n",
       "      <th>0</th>\n",
       "      <td>-1</td>\n",
       "      <td>-0.663827</td>\n",
       "      <td>-0.138526</td>\n",
       "    </tr>\n",
       "    <tr>\n",
       "      <th>1</th>\n",
       "      <td>1</td>\n",
       "      <td>1.994596</td>\n",
       "      <td>2.468025</td>\n",
       "    </tr>\n",
       "    <tr>\n",
       "      <th>2</th>\n",
       "      <td>-1</td>\n",
       "      <td>-1.247395</td>\n",
       "      <td>0.749425</td>\n",
       "    </tr>\n",
       "    <tr>\n",
       "      <th>3</th>\n",
       "      <td>1</td>\n",
       "      <td>2.309374</td>\n",
       "      <td>1.899836</td>\n",
       "    </tr>\n",
       "    <tr>\n",
       "      <th>4</th>\n",
       "      <td>1</td>\n",
       "      <td>0.849143</td>\n",
       "      <td>2.407750</td>\n",
       "    </tr>\n",
       "  </tbody>\n",
       "</table>\n",
       "</div>"
      ],
      "text/plain": [
       "   0         1         2\n",
       "0 -1 -0.663827 -0.138526\n",
       "1  1  1.994596  2.468025\n",
       "2 -1 -1.247395  0.749425\n",
       "3  1  2.309374  1.899836\n",
       "4  1  0.849143  2.407750"
      ]
     },
     "execution_count": 13,
     "metadata": {},
     "output_type": "execute_result"
    }
   ],
   "source": [
    "df.head()"
   ]
  },
  {
   "cell_type": "code",
   "execution_count": 14,
   "metadata": {},
   "outputs": [],
   "source": [
    "target = df[0]"
   ]
  },
  {
   "cell_type": "code",
   "execution_count": 15,
   "metadata": {},
   "outputs": [],
   "source": [
    "features = df.drop([0], axis=1)"
   ]
  },
  {
   "cell_type": "code",
   "execution_count": 27,
   "metadata": {
    "scrolled": true
   },
   "outputs": [
    {
     "data": {
      "text/plain": [
       "0     -0.663827\n",
       "1      1.994596\n",
       "2     -1.247395\n",
       "3      2.309374\n",
       "4      0.849143\n",
       "         ...   \n",
       "200    4.245176\n",
       "201    2.437935\n",
       "202   -1.876638\n",
       "203   -6.824446\n",
       "204    0.001805\n",
       "Name: 1, Length: 205, dtype: float64"
      ]
     },
     "execution_count": 27,
     "metadata": {},
     "output_type": "execute_result"
    }
   ],
   "source": [
    "features[1]"
   ]
  },
  {
   "cell_type": "code",
   "execution_count": 31,
   "metadata": {
    "scrolled": true
   },
   "outputs": [
    {
     "data": {
      "text/plain": [
       "array([-1.38525717e-01,  2.46802468e+00,  7.49424636e-01,  1.89983556e+00,\n",
       "        2.40774982e+00, -6.65415709e-01,  2.26378585e+00,  1.46914110e+00,\n",
       "       -8.24855578e-01,  2.03248761e+00,  4.95461855e-01,  4.19646539e-01,\n",
       "       -1.15609708e+00, -1.08066154e+00,  1.78543356e+00, -6.45619241e-01,\n",
       "       -1.05974659e+00,  1.74588676e+00,  1.12963766e+00,  2.14283780e+00,\n",
       "       -6.06776832e-01, -4.57305579e+00, -1.07628156e+00, -7.34473331e-01,\n",
       "        1.67920518e-01,  6.67507237e-02,  2.55000484e+00,  3.26080036e+00,\n",
       "        3.18888673e-01,  1.23462070e+00, -4.36249303e-01,  1.00717622e+00,\n",
       "        3.55385229e+00,  1.38557248e+00,  1.43528079e+00, -7.04410753e-01,\n",
       "        3.22612345e+00,  1.47147780e+00, -2.99608481e-01,  8.41576592e-01,\n",
       "        8.09009518e-01,  7.70091530e-01,  8.16012683e-01, -9.33380505e-01,\n",
       "        1.02713852e+00,  1.33935081e+00,  2.28541783e+00,  5.40855726e-03,\n",
       "        1.01057811e-01,  2.27389350e+00,  8.41476527e-01,  2.92917715e+00,\n",
       "       -4.89676381e-01,  2.13209893e+00, -1.13289074e+00,  2.21005264e+00,\n",
       "        1.32417868e+00,  2.49908207e+00,  3.90125062e-01,  2.72049044e+00,\n",
       "        1.82278976e+00, -7.56035748e-02,  2.02113385e+00,  1.78753447e+00,\n",
       "        1.45490846e-01,  2.79761434e+00,  2.47941799e-01, -1.59583170e+01,\n",
       "        4.90361733e-01,  3.48021608e+00, -6.95975456e-01,  1.93875383e+00,\n",
       "        3.21144934e+00, -6.90717370e-01, -9.49733359e-01,  7.28701682e-01,\n",
       "        1.51833173e+00, -2.81915670e-01,  2.67522110e+00,  1.27129087e+00,\n",
       "        2.64527936e+00, -2.35894038e-01,  1.41854203e+00,  2.09108091e+00,\n",
       "        4.91369741e-01,  3.39879219e+00,  1.66716317e+00,  1.26508816e+00,\n",
       "        7.67692459e-01, -1.87894630e+00,  7.79531835e-01, -1.78241137e+00,\n",
       "        2.03211463e+00,  2.19793322e-01, -4.90137904e-01,  2.88917951e+00,\n",
       "        9.57648549e-03,  1.17503848e+00, -4.08036045e-01,  1.86969155e+00,\n",
       "        1.86686825e+00,  1.54632699e+00,  2.07051585e-01, -2.06878758e-01,\n",
       "       -2.52041079e+00,  1.28007822e+00,  1.16557208e+00,  3.17501279e+00,\n",
       "        2.47511526e+00, -1.80444911e-01, -8.69161614e-01,  3.14318588e+00,\n",
       "        2.29287896e+00,  2.72965991e+00,  6.34784792e-01, -6.71919886e+00,\n",
       "        1.47461749e+00, -6.54928158e-01,  1.40848564e+00, -1.02575406e-01,\n",
       "        1.30324678e+00,  7.08828255e-01,  2.52629285e+00,  8.36758279e-01,\n",
       "        2.84392191e+00,  1.42787135e+00,  2.02358556e+00,  2.40986683e+00,\n",
       "        2.06602045e+00, -1.76772681e+01,  2.07195956e+00,  8.57004294e-01,\n",
       "       -1.02919534e+00, -1.16473434e+00,  2.94293860e+00, -7.37487095e-01,\n",
       "        4.22831630e+00,  7.94612955e-01,  2.32554898e+00,  7.23858904e-02,\n",
       "        3.62306017e+00,  2.72479147e+00,  2.82991212e+00,  6.77775894e-01,\n",
       "       -4.99116593e-02,  1.79026527e+00,  1.60015571e+00,  8.35785599e-01,\n",
       "        1.39148557e+00,  4.12546177e+00,  9.30578818e-01, -7.16738990e-01,\n",
       "        1.63285755e+00,  5.87486888e-01,  1.96517548e+00,  3.51209001e-01,\n",
       "       -1.45696765e+00,  8.36809838e-01,  1.47303783e+00,  8.54935835e-02,\n",
       "       -1.66988184e+00, -1.60048370e+00,  2.18054993e+00,  2.08052150e+00,\n",
       "        2.27604168e+00,  3.25772124e+00, -1.44885563e+00,  7.41397802e-01,\n",
       "       -1.10939279e-01, -8.40594282e-01,  3.52253192e+00, -3.68796779e-01,\n",
       "        5.28091382e-01, -6.96985048e-01,  1.19393835e+00,  2.70099968e+00,\n",
       "        1.36249958e+00,  1.60803617e+00, -7.58549412e-01,  2.59342363e+00,\n",
       "        3.26793284e+00,  1.26844332e+00,  1.44032796e+00, -1.26995228e+00,\n",
       "        1.48935444e+00, -7.33109410e-01, -1.54666438e+00,  8.07908786e-01,\n",
       "        1.06974685e+00, -9.35384407e-01,  1.11007295e+00, -3.72752603e-02,\n",
       "        1.37134415e+00, -1.20840447e+00, -2.47935890e-01,  2.83746882e+00,\n",
       "       -9.69696459e-01,  2.11570223e+00,  1.51983710e+00, -1.47538938e-01,\n",
       "        3.05393140e+00,  1.35780396e+00,  1.53339752e+00, -1.39342109e+01,\n",
       "        8.65147484e-01])"
      ]
     },
     "execution_count": 31,
     "metadata": {},
     "output_type": "execute_result"
    }
   ],
   "source": [
    "np.array(features[2])"
   ]
  },
  {
   "cell_type": "code",
   "execution_count": 33,
   "metadata": {},
   "outputs": [
    {
     "data": {
      "text/plain": [
       "array([-1,  1, -1,  1,  1,  1,  1, -1, -1,  1, -1, -1, -1, -1,  1, -1, -1,\n",
       "        1,  1,  1, -1,  1, -1, -1, -1, -1,  1,  1, -1, -1, -1, -1,  1,  1,\n",
       "       -1, -1,  1,  1, -1,  1,  1, -1,  1, -1, -1,  1,  1, -1, -1,  1,  1,\n",
       "        1, -1,  1, -1, -1, -1,  1,  1,  1,  1,  1,  1,  1, -1,  1, -1,  1,\n",
       "       -1,  1,  1, -1,  1, -1, -1, -1,  1, -1,  1, -1,  1, -1,  1,  1, -1,\n",
       "        1,  1, -1,  1, -1, -1, -1,  1, -1, -1,  1,  1, -1, -1, -1,  1,  1,\n",
       "       -1, -1, -1,  1,  1,  1,  1, -1, -1,  1,  1,  1, -1,  1, -1, -1,  1,\n",
       "       -1,  1, -1,  1, -1,  1,  1,  1, -1,  1,  1,  1, -1, -1, -1,  1, -1,\n",
       "        1, -1,  1, -1,  1,  1,  1,  1,  1,  1,  1,  1,  1,  1, -1, -1, -1,\n",
       "       -1,  1, -1, -1,  1, -1, -1, -1, -1,  1,  1,  1,  1, -1,  1, -1, -1,\n",
       "        1, -1, -1, -1,  1,  1, -1,  1, -1,  1,  1, -1,  1, -1,  1, -1, -1,\n",
       "       -1, -1, -1,  1,  1, -1, -1,  1,  1, -1,  1,  1, -1,  1,  1, -1,  1,\n",
       "       -1], dtype=int64)"
      ]
     },
     "execution_count": 33,
     "metadata": {},
     "output_type": "execute_result"
    }
   ],
   "source": [
    "np.array(target).as"
   ]
  },
  {
   "cell_type": "code",
   "execution_count": 34,
   "metadata": {},
   "outputs": [],
   "source": [
    "def fff(x, y):\n",
    "    for x1, x2, y in zip(np.array(x[1]), np.array(x[2]), y):\n",
    "        print(x1, x2, y)"
   ]
  },
  {
   "cell_type": "code",
   "execution_count": 35,
   "metadata": {
    "collapsed": true
   },
   "outputs": [
    {
     "name": "stdout",
     "output_type": "stream",
     "text": [
      "-0.6638265368249999 -0.138525716794 -1\n",
      "1.9945955012799998 2.46802467614 1\n",
      "-1.24739491636 0.749424636303 -1\n",
      "2.30937424866 1.89983555937 1\n",
      "0.849143314149 2.40774982339 1\n",
      "1.4542709504 -0.6654157090030001 1\n",
      "2.25422743269 2.2637858535 1\n",
      "-0.06757951660559999 1.46914109556 -1\n",
      "-0.861960913075 -0.824855578346 -1\n",
      "0.699178929108 2.03248760563 1\n",
      "-0.16147996103599999 0.495461854788 -1\n",
      "-0.14710226136600002 0.41964653929300005 -1\n",
      "0.0802959559549 -1.1560970761 -1\n",
      "1.72065543353 -1.08066154412 -1\n",
      "1.57395764659 1.7854335648 1\n",
      "1.16844517782 -0.645619241065 -1\n",
      "-0.06662736015 -1.05974658502 -1\n",
      "1.1633547323 1.7458867561099998 1\n",
      "2.0969697873400004 1.1296376586599999 1\n",
      "3.03570513408 2.14283779581 1\n",
      "0.831852058628 -0.606776832016 -1\n",
      "-12.977800215 -4.57305579231 1\n",
      "-0.842603085438 -1.07628156079 -1\n",
      "-0.47353672342299996 -0.734473330818 -1\n",
      "1.5403731257100002 0.16792051752099998 -1\n",
      "0.495341113263 0.0667507236575 -1\n",
      "2.0914860395 2.55000483607 1\n",
      "2.9370546100999997 3.2608003644599997 1\n",
      "-0.501666814497 0.318888672551 -1\n",
      "0.8302066484530001 1.2346206950799998 -1\n",
      "-0.390148299661 -0.436249303137 -1\n",
      "-0.527212710025 1.0071762222299998 -1\n",
      "3.37816843065 3.5538522903300005 1\n",
      "3.37315299707 1.3855724834399998 1\n",
      "-0.210285721111 1.43528078995 -1\n",
      "2.54252027021 -0.7044107532580001 -1\n",
      "1.9949689444999998 3.2261234490099997 1\n",
      "1.9482875385900003 1.4714777957299998 1\n",
      "1.2689359552700001 -0.299608481166 -1\n",
      "2.61003333046 0.8415765924690001 1\n",
      "1.85952947188 0.809009517683 1\n",
      "-1.08183553816 0.770091530238 -1\n",
      "1.07128284436 0.816012683328 1\n",
      "-0.256858396377 -0.933380504633 -1\n",
      "0.09388299779989999 1.0271385185700002 -1\n",
      "1.60243555346 1.3393508134999998 1\n",
      "4.1791735147 2.2854178342099996 1\n",
      "-0.38727046002099996 0.00540855726457 -1\n",
      "0.708176077044 0.10105781079500001 -1\n",
      "0.0394512322469 2.27389350198 1\n",
      "1.8965482728599998 0.841476526715 1\n",
      "0.265671264888 2.92917715191 1\n",
      "1.2033927847499999 -0.48967638090899995 -1\n",
      "2.4041964226599997 2.1320989317400003 1\n",
      "-0.550876105579 -1.1328907445799998 -1\n",
      "-1.11009469329 2.2100526438299997 -1\n",
      "-0.37114441749899996 1.3241786765899999 -1\n",
      "2.29443793001 2.49908206559 1\n",
      "0.867412549289 0.390125061591 1\n",
      "2.1141895566 2.72049044425 1\n",
      "1.8658378933500002 1.8227897634099999 1\n",
      "2.22230562434 -0.0756035747865 1\n",
      "2.24713284626 2.0211338476400003 1\n",
      "2.8158155364499997 1.78753447063 1\n",
      "0.397399894804 0.145490846269 -1\n",
      "1.20375277405 2.79761434073 1\n",
      "0.42988127647600005 0.24794179903400002 -1\n",
      "-12.9559397335 -15.958316950699999 1\n",
      "0.73308122691 0.490361733145 -1\n",
      "1.2793295985600002 3.48021607579 1\n",
      "2.26065351891 -0.695975456356 1\n",
      "-0.430549441458 1.93875383062 -1\n",
      "2.8512445546499996 3.21144933636 1\n",
      "-0.380480007234 -0.6907173702889999 -1\n",
      "-0.633888971014 -0.9497333587360001 -1\n",
      "-1.0202005922600001 0.7287016823770001 -1\n",
      "2.57979658896 1.51833172616 1\n",
      "1.90950029409 -0.28191567001699996 -1\n",
      "2.1106758401 2.6752210992700003 1\n",
      "0.429530129351 1.2712908733 -1\n",
      "2.72885956413 2.6452793583400003 1\n",
      "-1.4689099522799998 -0.23589403808899997 -1\n",
      "2.28766056164 1.41854202741 1\n",
      "1.67811148547 2.0910809135 1\n",
      "1.01434797537 0.491369741164 -1\n",
      "2.90428924819 3.3987921871399998 1\n",
      "0.247516987973 1.66716317109 1\n",
      "-0.539257339664 1.26508815608 -1\n",
      "0.0994917514247 0.7676924594519999 1\n",
      "0.8169071226379999 -1.8789463016499999 -1\n",
      "1.13143727039 0.7795318346619999 -1\n",
      "0.556055161118 -1.78241136647 -1\n",
      "1.8371518786 2.03211463165 1\n",
      "0.623357772465 0.219793322086 -1\n",
      "-0.67491100615 -0.49013790428000004 -1\n",
      "0.844981013719 2.88917951139 1\n",
      "1.7587642038 0.009576485492809999 1\n",
      "-1.1260470502600002 1.17503847686 -1\n",
      "-0.558989073802 -0.408036044973 -1\n",
      "1.27370523325 1.86969155422 -1\n",
      "2.2332107787099997 1.86686825431 1\n",
      "0.9326803467039999 1.54632699002 1\n",
      "-0.838851497492 0.207051584551 -1\n",
      "0.960556155592 -0.206878757833 -1\n",
      "0.318371785439 -2.52041079395 -1\n",
      "-0.0579711035843 1.28007822413 1\n",
      "1.59069297712 1.16557207662 1\n",
      "2.2874861068 3.1750127893 1\n",
      "1.11275800896 2.47511525715 1\n",
      "-0.245411545137 -0.180444910555 -1\n",
      "-0.8904430016299999 -0.869161614255 -1\n",
      "2.04808800218 3.14318588365 1\n",
      "1.6473671542100001 2.29287895734 1\n",
      "0.395264710891 2.72965991477 1\n",
      "1.53670507995 0.6347847922 -1\n",
      "-9.37143230289 -6.71919886045 1\n",
      "-0.43987999445299997 1.4746174904 -1\n",
      "0.71961284888 -0.65492815767 -1\n",
      "2.94376208903 1.40848563935 1\n",
      "-0.7635990593240001 -0.10257540573200001 -1\n",
      "3.64197606852 1.30324677502 1\n",
      "-0.11263359276399999 0.7088282545929999 -1\n",
      "1.16324910809 2.5262928528099997 1\n",
      "-1.7382587344299998 0.836758278756 -1\n",
      "2.0964870453 2.84392191228 1\n",
      "2.3232693338 1.42787134783 1\n",
      "3.55567588519 2.02358555842 1\n",
      "-0.264256809396 2.4098668254700004 -1\n",
      "1.66810292901 2.0660204499900003 1\n",
      "-12.8972510773 -17.6772681159 1\n",
      "1.9188866543 2.07195955606 1\n",
      "1.2907542751899999 0.857004294159 -1\n",
      "0.248407461019 -1.02919534362 -1\n",
      "1.23891171595 -1.1647343366 -1\n",
      "3.5139376847300006 2.94293860027 1\n",
      "-0.9747320324519999 -0.737487095139 -1\n",
      "2.17857023587 4.2283163008999995 1\n",
      "0.869718820176 0.794612954576 -1\n",
      "4.09144093043 2.3255489792099997 1\n",
      "0.594400570732 0.0723858903714 -1\n",
      "1.60078552756 3.6230601675300003 1\n",
      "1.75356482216 2.72479147224 1\n",
      "1.45557192822 2.82991212468 1\n",
      "0.9710881012270001 0.6777758935930001 1\n",
      "2.51589812319 -0.0499116593066 1\n",
      "2.44066636811 1.7902652702200001 1\n",
      "1.2687371433399999 1.6001557062399998 1\n",
      "1.18882147375 0.835785599258 1\n",
      "2.61853745567 1.3914855705000002 1\n",
      "1.66302681695 4.12546177078 1\n",
      "-0.6901847264030001 0.9305788179919999 -1\n",
      "-0.38763050966300006 -0.7167389904699999 -1\n",
      "0.605158203746 1.63285755088 -1\n",
      "-1.8790698711200002 0.5874868882240001 -1\n",
      "2.64905777493 1.96517548022 1\n",
      "-2.0203783868 0.351209001229 -1\n",
      "-0.95011872839 -1.45696765244 -1\n",
      "3.16142190625 0.836809838246 1\n",
      "-0.517300002823 1.47303782745 -1\n",
      "-0.341827192253 0.085493583542 -1\n",
      "-0.389458193477 -1.66988184442 -1\n",
      "-0.892315157386 -1.60048370401 -1\n",
      "1.45339980174 2.1805499251900002 1\n",
      "1.15895191082 2.08052149823 1\n",
      "1.7850763042 2.27604167947 1\n",
      "1.74556588333 3.25772123831 1\n",
      "0.573551764016 -1.44885562704 -1\n",
      "1.38321147969 0.741397802147 1\n",
      "1.10003839773 -0.110939278537 -1\n",
      "-1.37960965229 -0.8405942824779999 -1\n",
      "1.6421221181 3.5225319246199995 1\n",
      "0.7094754464569999 -0.368796778988 -1\n",
      "1.39605278347 0.528091382458 -1\n",
      "-0.349762224616 -0.696985048047 -1\n",
      "2.31504419468 1.1939383507999999 1\n",
      "0.21218358607299997 2.70099967859 1\n",
      "-0.239311336448 1.36249958234 -1\n",
      "1.8286382733700002 1.60803617252 1\n",
      "0.277534489548 -0.758549412294 -1\n",
      "2.58659463351 2.59342363407 1\n",
      "2.0224118562599998 3.26793283679 1\n",
      "-0.20845657596500003 1.26844332075 -1\n",
      "2.45055007277 1.4403279591999998 1\n",
      "0.725817118862 -1.2699522803799999 -1\n",
      "1.04966012188 1.4893544377099999 1\n",
      "0.320264683263 -0.733109409979 -1\n",
      "2.13877674803 -1.54666437975 -1\n",
      "-0.963075012443 0.807908786038 -1\n",
      "-0.40541499776900003 1.06974685088 -1\n",
      "-0.53942691245 -0.935384406949 -1\n",
      "4.46599203536 1.11007294541 1\n",
      "3.25526064709 -0.0372752602586 1\n",
      "-0.37166152765199995 1.37134415028 -1\n",
      "-0.726213529703 -1.20840446628 -1\n",
      "2.1679819895200003 -0.247935889859 1\n",
      "2.1467657660299997 2.8374688190900006 1\n",
      "0.660295955223 -0.969696458955 -1\n",
      "2.31104387273 2.1157022255799998 1\n",
      "3.0109197474799996 1.51983710014 1\n",
      "-1.03366771262 -0.147538937784 -1\n",
      "4.24517619042 3.05393139864 1\n",
      "2.4379354744299997 1.35780395589 1\n",
      "-1.87663766373 1.5333975233000001 -1\n",
      "-6.824446480190001 -13.934210941199998 1\n",
      "0.00180474151159 0.8651474836149999 -1\n"
     ]
    }
   ],
   "source": [
    "fff(features, target)"
   ]
  },
  {
   "cell_type": "code",
   "execution_count": 19,
   "metadata": {
    "collapsed": true
   },
   "outputs": [
    {
     "data": {
      "text/plain": [
       "array([-1,  1, -1,  1,  1,  1,  1, -1, -1,  1, -1, -1, -1, -1,  1, -1, -1,\n",
       "        1,  1,  1, -1,  1, -1, -1, -1, -1,  1,  1, -1, -1, -1, -1,  1,  1,\n",
       "       -1, -1,  1,  1, -1,  1,  1, -1,  1, -1, -1,  1,  1, -1, -1,  1,  1,\n",
       "        1, -1,  1, -1, -1, -1,  1,  1,  1,  1,  1,  1,  1, -1,  1, -1,  1,\n",
       "       -1,  1,  1, -1,  1, -1, -1, -1,  1, -1,  1, -1,  1, -1,  1,  1, -1,\n",
       "        1,  1, -1,  1, -1, -1, -1,  1, -1, -1,  1,  1, -1, -1, -1,  1,  1,\n",
       "       -1, -1, -1,  1,  1,  1,  1, -1, -1,  1,  1,  1, -1,  1, -1, -1,  1,\n",
       "       -1,  1, -1,  1, -1,  1,  1,  1, -1,  1,  1,  1, -1, -1, -1,  1, -1,\n",
       "        1, -1,  1, -1,  1,  1,  1,  1,  1,  1,  1,  1,  1,  1, -1, -1, -1,\n",
       "       -1,  1, -1, -1,  1, -1, -1, -1, -1,  1,  1,  1,  1, -1,  1, -1, -1,\n",
       "        1, -1, -1, -1,  1,  1, -1,  1, -1,  1,  1, -1,  1, -1,  1, -1, -1,\n",
       "       -1, -1, -1,  1,  1, -1, -1,  1,  1, -1,  1,  1, -1,  1,  1, -1,  1,\n",
       "       -1], dtype=int64)"
      ]
     },
     "execution_count": 19,
     "metadata": {},
     "output_type": "execute_result"
    }
   ],
   "source": [
    "np.array(target)"
   ]
  },
  {
   "cell_type": "code",
   "execution_count": 20,
   "metadata": {},
   "outputs": [],
   "source": [
    "from PIL import Image\n",
    "import requests\n",
    "from io import BytesIO\n",
    "\n",
    "response = requests.get(\"https://d3c33hcgiwev3.cloudfront.net/imageAssetProxy.v1/hrIFu8eQEeWoXw5ZvVCRuw_1a61e227f5a1bc7fc0354df00fa70781_logderiv.png?expiry=1606435200000&hmac=H3ZYU9fYIt0Tv2yoAhHacyIaD_DBuXMuFZ4CG9q5CDk\")\n",
    "img = Image.open(BytesIO(response.content))"
   ]
  },
  {
   "cell_type": "code",
   "execution_count": 23,
   "metadata": {
    "scrolled": true
   },
   "outputs": [
    {
     "data": {
      "image/png": "[encoded data removed]",
      "text/plain": [
       "<PIL.PngImagePlugin.PngImageFile image mode=RGBA size=650x66 at 0x1F748557B38>"
      ]
     },
     "execution_count": 23,
     "metadata": {},
     "output_type": "execute_result"
    }
   ],
   "source": [
    "img"
   ]
  },
  {
   "cell_type": "code",
   "execution_count": 98,
   "metadata": {},
   "outputs": [],
   "source": [
    "def sigmoid_1(weights, x, y):\n",
    "    z = (-y) * np.dot(weights, x)\n",
    "    sigm = 1 / ( 1 + np.exp(z))\n",
    "    return sigm\n",
    "\n",
    "def gradient_descent(df, k=0.1, C=0, eps=1e-5, iterations=100000):\n",
    "    w1 = 0\n",
    "    w2 = 0\n",
    "    w = np.array((w1, w2))\n",
    "    for i in range(iterations):\n",
    "        sum1 = sum2 = 0\n",
    "        for index, row in df.iterrows():\n",
    "            x1, x2, y = row[1], row[2], row[0]\n",
    "            sum1 += y * x1 * ( 1 - sigmoid_1(w, np.array((x1, x2)), y) )\n",
    "            sum2 += y * x2 * ( 1 - sigmoid_1(w, np.array((x1, x2)), y) )\n",
    "        w1 = w1 + k * (1 / len(df)) * sum1 - k * C * w1\n",
    "        w2 = w2 + k * (1 / len(df)) * sum2 - k * C * w2\n",
    "        \n",
    "        new_w = np.array((w1, w2))\n",
    "        error = ((w[0] - new_w[0])**2 + (w[1] - new_w[1])**2)**(.5)\n",
    "        if error < eps:\n",
    "            break\n",
    "        w = new_w\n",
    "    return w\n",
    "\n",
    "def get_roc_auc(df, weights):\n",
    "    \n",
    "    x1 = np.array(df[1])\n",
    "    x2 = np.array(df[2])\n",
    "    y = np.array(df[0])\n",
    "    \n",
    "    prediction_proba = sigmoid_1(weights, np.array((x1, x2)), 1)\n",
    "    return roc_auc_score(y, prediction_proba)"
   ]
  },
  {
   "cell_type": "markdown",
   "metadata": {},
   "source": [
    "### Without regularization"
   ]
  },
  {
   "cell_type": "code",
   "execution_count": 99,
   "metadata": {
    "scrolled": true
   },
   "outputs": [],
   "source": [
    "w_c0 = gradient_descent(df)"
   ]
  },
  {
   "cell_type": "code",
   "execution_count": 100,
   "metadata": {
    "scrolled": true
   },
   "outputs": [
    {
     "data": {
      "text/plain": [
       "0.9268571428571428"
      ]
     },
     "execution_count": 100,
     "metadata": {},
     "output_type": "execute_result"
    }
   ],
   "source": [
    "get_roc_auc(df, w_c0)"
   ]
  },
  {
   "cell_type": "markdown",
   "metadata": {},
   "source": [
    "### With regularization"
   ]
  },
  {
   "cell_type": "code",
   "execution_count": 101,
   "metadata": {},
   "outputs": [],
   "source": [
    "w_c10 = gradient_descent(df, C=10)"
   ]
  },
  {
   "cell_type": "code",
   "execution_count": 102,
   "metadata": {},
   "outputs": [
    {
     "data": {
      "text/plain": [
       "0.9362857142857142"
      ]
     },
     "execution_count": 102,
     "metadata": {},
     "output_type": "execute_result"
    }
   ],
   "source": [
    "get_roc_auc(df, w_c10)"
   ]
  },
  {
   "cell_type": "code",
   "execution_count": null,
   "metadata": {},
   "outputs": [],
   "source": []
  },
  {
   "cell_type": "code",
   "execution_count": null,
   "metadata": {},
   "outputs": [],
   "source": []
  }
 ],
 "metadata": {
  "kernelspec": {
   "display_name": "Python 3",
   "language": "python",
   "name": "python3"
  },
  "language_info": {
   "codemirror_mode": {
    "name": "ipython",
    "version": 3
   },
   "file_extension": ".py",
   "mimetype": "text/x-python",
   "name": "python",
   "nbconvert_exporter": "python",
   "pygments_lexer": "ipython3",
   "version": "3.6.8rc1"
  }
 },
 "nbformat": 4,
 "nbformat_minor": 4
}
